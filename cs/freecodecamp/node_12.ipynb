{
 "cells": [
  {
   "cell_type": "code",
   "execution_count": null,
   "metadata": {
    "dotnet_interactive": {
     "language": "csharp"
    },
    "polyglot_notebook": {
     "kernelName": "csharp"
    }
   },
   "outputs": [],
   "source": [
    "// On this new node, we'll be handling boolean values and working with their properties.\n",
    "\n",
    "Console.WriteLine(\"a\" == \"a\");\n",
    "Console.WriteLine(\"a\" != \"A\");\n",
    "Console.WriteLine(1 == 2);\n",
    "\n",
    "string myValue = \"a\";\n",
    "Console.WriteLine(myValue == \"a\");"
   ]
  },
  {
   "cell_type": "code",
   "execution_count": null,
   "metadata": {
    "dotnet_interactive": {
     "language": "csharp"
    },
    "polyglot_notebook": {
     "kernelName": "csharp"
    }
   },
   "outputs": [],
   "source": [
    "string value1 = \" a\";\n",
    "string value2 = \"A \";\n",
    "Console.WriteLine(value1.Trim().ToLower() == value2.Trim().ToLower());\n",
    "\n",
    "string pangram = \"The quick brown fox jumps over the lazy dog.\";\n",
    "Console.WriteLine(pangram.Contains(\"fox\"));\n",
    "Console.WriteLine(pangram.Contains(\"cow\"));\n",
    "\n",
    "// These two lines of code will create the same output\n",
    "\n",
    "Console.WriteLine(pangram.Contains(\"fox\") == false);\n",
    "Console.WriteLine(!pangram.Contains(\"fox\"));"
   ]
  },
  {
   "cell_type": "code",
   "execution_count": null,
   "metadata": {
    "dotnet_interactive": {
     "language": "csharp"
    },
    "polyglot_notebook": {
     "kernelName": "csharp"
    }
   },
   "outputs": [],
   "source": [
    "/* <evaluate this condition>\n",
    "?\n",
    "<if condition is true, return this value>\n",
    ":\n",
    "<if condition is false, return this value>\n",
    "*/\n",
    "\n",
    "int saleAmount = 999;\n",
    "int discount = saleAmount > 1000 ? 100 : 50;\n",
    "Console.WriteLine($\"Discount: {discount}\");\n",
    "Console.WriteLine($\"Discount: {(saleAmount > 1000 ? 100 : 50)}\"); // showcased as an standalone function"
   ]
  },
  {
   "cell_type": "code",
   "execution_count": null,
   "metadata": {
    "dotnet_interactive": {
     "language": "csharp"
    },
    "polyglot_notebook": {
     "kernelName": "csharp"
    }
   },
   "outputs": [],
   "source": [
    "/*Use la clase Random para generar un valor.\n",
    "Tenga en cuenta el intervalo de números necesarios.\n",
    "Según el valor generado, use el operador condicional para mostrar heads o tails.\n",
    "Debería haber una posibilidad del 50 % de que el resultado sea cara o cruz.\n",
    "Debería lograr el resultado deseado en tres líneas de código o menos.*/\n",
    "\n",
    "Random coin = new Random();\n",
    "int flip = coin.Next(0, 2);\n",
    "Console.WriteLine($\"You flip a coin. You get {(flip == 0 ? \"heads\" : \"tails\")}.\");"
   ]
  },
  {
   "cell_type": "code",
   "execution_count": null,
   "metadata": {
    "dotnet_interactive": {
     "language": "csharp"
    },
    "polyglot_notebook": {
     "kernelName": "csharp"
    }
   },
   "outputs": [],
   "source": [
    "string permission = \"Admin|Manager\";\n",
    "int level = 55;\n",
    "\n",
    "if (permission.Contains(\"Admin\") && level > 55)\n",
    "    Console.WriteLine(\"Welcome, Super Admin user.\");\n",
    "else if (permission.Contains(\"Admin\") && level <= 55)\n",
    "    Console.WriteLine(\"Welcome, Admin user.\");\n",
    "else if (permission.Contains(\"Manager\") && level > 20)\n",
    "    Console.WriteLine(\"Contact an Admin for access.\");\n",
    "else if (permission.Contains(\"Manager\") && level <= 20)\n",
    "    Console.WriteLine(\"You do not have sufficient privileges.\");\n",
    "else if (permission.Contains(\"Admin\") || permission.Contains(\"Manager\"))\n",
    "    Console.WriteLine(\"You do not have sufficient privileges.\");"
   ]
  },
  {
   "cell_type": "code",
   "execution_count": 4,
   "metadata": {},
   "outputs": [
    {
     "name": "stdout",
     "output_type": "stream",
     "text": [
      "Inside the code block: 0\n",
      "Outside the code block: 10\n"
     ]
    }
   ],
   "source": [
    "bool flag = true;\n",
    "int value = 0;\n",
    "\n",
    "if (flag)\n",
    "{\n",
    "    Console.WriteLine($\"Inside the code block: {value}\");\n",
    "}\n",
    "\n",
    "value = 10;\n",
    "Console.WriteLine($\"Outside the code block: {value}\");"
   ]
  },
  {
   "cell_type": "code",
   "execution_count": null,
   "metadata": {},
   "outputs": [],
   "source": [
    "bool flag = true;\n",
    "if (flag) Console.WriteLine(flag);\n",
    "\n",
    "// This means that a single expression does not need brackets\n",
    "// nor extra line, the latter is not a good practice."
   ]
  },
  {
   "cell_type": "code",
   "execution_count": 6,
   "metadata": {},
   "outputs": [
    {
     "name": "stdout",
     "output_type": "stream",
     "text": [
      "Found Steve\r\n"
     ]
    }
   ],
   "source": [
    "string name = \"steve\";\n",
    "\n",
    "if (name == \"bob\")\n",
    "    Console.WriteLine(\"Found Bob\");\n",
    "else if (name == \"steve\")\n",
    "    Console.WriteLine(\"Found Steve\");\n",
    "else\n",
    "    Console.WriteLine(\"Found Chuck\"); // This is much better."
   ]
  },
  {
   "cell_type": "code",
   "execution_count": 8,
   "metadata": {},
   "outputs": [
    {
     "name": "stdout",
     "output_type": "stream",
     "text": [
      "Set contains 42\n",
      "Total: 108\n"
     ]
    }
   ],
   "source": [
    "int[] numbers = { 4, 8, 15, 16, 23, 42 };\n",
    "\n",
    "int total = 0;\n",
    "\n",
    "bool found = false;\n",
    "\n",
    "foreach (int number in numbers)\n",
    "{\n",
    "    total += number;\n",
    "\n",
    "    if (number == 42)\n",
    "       found = true;\n",
    "}\n",
    "\n",
    "if (found)\n",
    "    Console.WriteLine(\"Set contains 42\");\n",
    "\n",
    "Console.WriteLine($\"Total: {total}\");"
   ]
  }
 ],
 "metadata": {
  "kernelspec": {
   "display_name": ".NET (C#)",
   "language": "C#",
   "name": ".net-csharp"
  },
  "polyglot_notebook": {
   "kernelInfo": {
    "defaultKernelName": "csharp",
    "items": [
     {
      "aliases": [],
      "languageName": "csharp",
      "name": "csharp"
     }
    ]
   }
  }
 },
 "nbformat": 4,
 "nbformat_minor": 2
}
