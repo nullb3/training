{
 "cells": [
  {
   "cell_type": "code",
   "execution_count": null,
   "metadata": {
    "dotnet_interactive": {
     "language": "csharp"
    },
    "polyglot_notebook": {
     "kernelName": "csharp"
    }
   },
   "outputs": [],
   "source": [
    "// The for loop in CS!\n",
    "int i = 0;\n",
    "for (int i = 0; i < 10; i++)\n",
    "{\n",
    "    Console.WriteLine(i);\n",
    "}"
   ]
  },
  {
   "cell_type": "code",
   "execution_count": null,
   "metadata": {},
   "outputs": [],
   "source": [
    "for (int i = 10; i >= 0; i--)\n",
    "{\n",
    "    Console.WriteLine(i);\n",
    "}"
   ]
  },
  {
   "cell_type": "code",
   "execution_count": null,
   "metadata": {},
   "outputs": [],
   "source": [
    "int three = 3;\n",
    "for (int i = 0; i < 10; i += three)\n",
    "{\n",
    "    Console.WriteLine(i);\n",
    "}"
   ]
  },
  {
   "cell_type": "code",
   "execution_count": null,
   "metadata": {},
   "outputs": [],
   "source": [
    "for (int i = 0; i < 10; i++)\n",
    "{\n",
    "    Console.WriteLine(i);\n",
    "    if (i == 7) break;\n",
    "}"
   ]
  },
  {
   "cell_type": "code",
   "execution_count": null,
   "metadata": {},
   "outputs": [],
   "source": [
    "string[] names = { \"Alex\", \"Eddie\", \"David\", \"Michael\" };\n",
    "foreach (var name in names)\n",
    "{\n",
    "    // Can't do this since name is part of the for each functioning:\n",
    "    if (name == \"David\") name = \"Sammy\";\n",
    "}"
   ]
  },
  {
   "cell_type": "code",
   "execution_count": null,
   "metadata": {},
   "outputs": [],
   "source": [
    "string[] names = { \"Alex\", \"Eddie\", \"David\", \"Michael\" };\n",
    "\n",
    "for (int i = 0; i < names.Length; i++)\n",
    "    // can do it on a for loop since it doesn't need an indexer.\n",
    "    if (names[i] == \"David\") names[i] = \"Sammy\";\n",
    "\n",
    "foreach (var name in names) Console.WriteLine(name);"
   ]
  },
  {
   "cell_type": "code",
   "execution_count": null,
   "metadata": {},
   "outputs": [],
   "source": [
    "for (int i = 1; i <= 100; i++){\n",
    "\n",
    "    string ring = \"\";\n",
    "\n",
    "    if (i%3 == 0){\n",
    "        ring = \" - Fizz\";\n",
    "    }\n",
    "\n",
    "    if (i%5 == 0){\n",
    "        ring = \" - Buzz\";\n",
    "\n",
    "        if (i%3 == 0){\n",
    "            ring = \" - FizzBuzz\";\n",
    "        }\n",
    "    }\n",
    "\n",
    "    Console.WriteLine($\"{i}{ring}\");\n",
    "}"
   ]
  },
  {
   "cell_type": "code",
   "execution_count": null,
   "metadata": {},
   "outputs": [],
   "source": [
    "// Do whiles in CS!\n",
    "\n",
    "do\n",
    "{\n",
    "    // This code executes at least one time\n",
    "} while (true);\n",
    "\n",
    "bool really = false;\n",
    "\n",
    "do{\n",
    "    Console.WriteLine(\"Yes, it's true.\");\n",
    "}while(really);\n",
    "\n",
    "Console.WriteLine(\"nvm thats a lie lol\");"
   ]
  },
  {
   "cell_type": "code",
   "execution_count": null,
   "metadata": {},
   "outputs": [],
   "source": [
    "Random random = new Random();\n",
    "int current = 0;\n",
    "\n",
    "do\n",
    "{\n",
    "    current = random.Next(1, 11);\n",
    "    Console.WriteLine(current);\n",
    "} while (current != 7);"
   ]
  },
  {
   "cell_type": "code",
   "execution_count": null,
   "metadata": {},
   "outputs": [],
   "source": [
    "Random random = new Random();\n",
    "int current = random.Next(1, 11);\n",
    "\n",
    "/*\n",
    "do\n",
    "{\n",
    "    current = random.Next(1, 11);\n",
    "    Console.WriteLine(current);\n",
    "} while (current != 7);\n",
    "*/\n",
    "\n",
    "while (current >= 3)\n",
    "{\n",
    "    Console.WriteLine(current);\n",
    "    current = random.Next(1, 11);\n",
    "}\n",
    "Console.WriteLine($\"Last number: {current}\");"
   ]
  },
  {
   "cell_type": "code",
   "execution_count": null,
   "metadata": {},
   "outputs": [],
   "source": [
    "int heroHp = 10;\n",
    "int monsterHp = 10;\n",
    "Random damage = new Random();\n",
    "int turnDamage;\n",
    "\n",
    "Console.WriteLine($\"The Battle begins!\\n\");\n",
    "\n",
    "do{\n",
    "    \n",
    "        turnDamage= damage.Next(1,11);\n",
    "        monsterHp -= turnDamage; \n",
    "        Console.WriteLine($\"Monster was damaged and lost {turnDamage} health and now has {monsterHp} health.\");\n",
    "        \n",
    "        if (monsterHp <= 0) continue;\n",
    "\n",
    "        turnDamage= damage.Next(1,11);\n",
    "        heroHp -= turnDamage;\n",
    "        Console.WriteLine($\"Hero was damaged and lost {turnDamage} health and now has {heroHp} health.\");\n",
    "\n",
    "}while(heroHp > 0 && monsterHp > 0);\n",
    "\n",
    "Console.WriteLine((heroHp <= 0) ? \"Monster wins!\" : \"Hero wins!\");"
   ]
  },
  {
   "cell_type": "code",
   "execution_count": null,
   "metadata": {},
   "outputs": [],
   "source": [
    "string? readResult;\n",
    "Console.WriteLine(\"Enter a string:\");\n",
    "do\n",
    "{\n",
    "    readResult = Console.ReadLine();\n",
    "} while (readResult == null);"
   ]
  },
  {
   "cell_type": "code",
   "execution_count": null,
   "metadata": {},
   "outputs": [],
   "source": [
    "// capture user input in a string variable named readResult\n",
    "\n",
    "int numericValue = 0;\n",
    "bool validNumber = false;\n",
    "\n",
    "validNumber = int.TryParse(readResult, out numericValue);"
   ]
  },
  {
   "cell_type": "code",
   "execution_count": null,
   "metadata": {},
   "outputs": [],
   "source": [
    "// See https://aka.ms/new-console-template for more information\n",
    "\n",
    "/*Enter an integer value between 5 and 10\n",
    "two\n",
    "Sorry, you entered an invalid number, please try again\n",
    "2\n",
    "\n",
    "7\n",
    "Your input value (7) has been accepted.*/\n",
    "\n",
    "string? reader;\n",
    "int value;\n",
    "bool isInt = false; \n",
    "bool found = false;\n",
    "\n",
    "Console.WriteLine(\"Enter an integer value between 5 and 10\");\n",
    "\n",
    "do{\n",
    "    reader = Console.ReadLine();\n",
    "    isInt = int.TryParse(reader, out value);\n",
    "    \n",
    "    if(isInt){\n",
    "        if(value < 5 || value > 10)\n",
    "        {\n",
    "            Console.WriteLine($\"You entered {value}. Please enter a number between 5 and 10\");\n",
    "        }\n",
    "        else\n",
    "        {\n",
    "            Console.WriteLine($\"Your input value ({value}) has been accepted.\");\n",
    "            found = true;\n",
    "        }   \n",
    "    }\n",
    "    else\n",
    "    {\n",
    "        Console.WriteLine($\"Sorry, you entered an invalid number, please try again\");\n",
    "    }\n",
    "}while(!found);"
   ]
  },
  {
   "cell_type": "code",
   "execution_count": null,
   "metadata": {},
   "outputs": [
    {
     "name": "stdout",
     "output_type": "stream",
     "text": [
      "HelloHelloHelloHelloHelloHelloHelloHelloHelloHelloHelloHelloHelloHelloHelloHelloHelloHelloHelloHelloHelloHelloHelloHelloHelloHelloHelloHelloHelloHelloHelloHelloHelloHelloHelloHelloHelloHelloHelloHelloHelloHelloHelloHelloHelloHelloHelloHelloHelloHelloHelloHelloHelloHelloHelloHelloHelloHelloHello"
     ]
    }
   ],
   "source": [
    "string[] roles = {\"Administrator\", \"Manager\", \"User\"};\n",
    "bool accepted = false;\n",
    "string? reader;\n",
    "\n",
    "Console.WriteLine(\"Enter your role name (Administrator, Manager, or User)\");\n",
    "\n",
    "do{\n",
    "    reader = Console.ReadLine();\n",
    "        \n",
    "    foreach (string role in roles){\n",
    "        if(reader is not null && role.ToLower() == reader.Trim().ToLower()){\n",
    "            accepted = true;\n",
    "            reader = role;\n",
    "        }\n",
    "    }\n",
    "\n",
    "    if(accepted){\n",
    "        Console.WriteLine($\"Your input value ({reader}) has been accepted.\");\n",
    "    }else if(reader is not null){\n",
    "        Console.WriteLine($\"The role name that you entered, \\\"{reader.Trim()}\\\" is not valid. Enter your role name (Administrator, Manager, or User)\");\n",
    "    }\n",
    "\n",
    "}while(!accepted);"
   ]
  },
  {
   "cell_type": "code",
   "execution_count": null,
   "metadata": {},
   "outputs": [],
   "source": [
    "string[] myStrings = new string[2] { \"I like pizza. I like roast chicken. I like salad\", \"I like all three of the menu choices\" };\n",
    "int periodLocation;\n",
    "string trim;\n",
    "string currentString;\n",
    "\n",
    "foreach(string myString in myStrings){\n",
    "    \n",
    "    currentString = myString;\n",
    "    periodLocation = currentString.IndexOf(\".\");\n",
    "\n",
    "    while(periodLocation != -1){\n",
    "        // first sentence is the string value to the left of the period location\n",
    "        trim = currentString.Remove(periodLocation);\n",
    "\n",
    "        // the remainder of currentString is the string value to the right of the location\n",
    "        currentString = currentString.Substring(periodLocation + 1);\n",
    "\n",
    "        // remove any leading white-space from myString\n",
    "        currentString = currentString.TrimStart();\n",
    "\n",
    "        // update the comma location and increment the counter\n",
    "        periodLocation = currentString.IndexOf(\".\");\n",
    "\n",
    "        Console.WriteLine(trim);   \n",
    "    }\n",
    "\n",
    "    trim = currentString.Trim();\n",
    "    Console.WriteLine(trim);\n",
    "    \n",
    "}"
   ]
  }
 ],
 "metadata": {
  "kernelspec": {
   "display_name": ".NET (C#)",
   "language": "C#",
   "name": ".net-csharp"
  },
  "polyglot_notebook": {
   "kernelInfo": {
    "defaultKernelName": "csharp",
    "items": [
     {
      "aliases": [],
      "languageName": "csharp",
      "name": "csharp"
     }
    ]
   }
  }
 },
 "nbformat": 4,
 "nbformat_minor": 2
}
