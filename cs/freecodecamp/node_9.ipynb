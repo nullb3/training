{
 "cells": [
  {
   "cell_type": "code",
   "execution_count": null,
   "metadata": {
    "dotnet_interactive": {
     "language": "csharp"
    },
    "polyglot_notebook": {
     "kernelName": "csharp"
    }
   },
   "outputs": [],
   "source": [
    "// This is a Polyglot Notebook, I'll use them to showcase my learnings from C#.\n",
    "\n",
    "// The following program is an object that acts like a dice, being an instance from the Random class.\n",
    "// It features 3 different types of rolls based on the properties of a dice.\n",
    "\n",
    "Random dice = new Random();\n",
    "\n",
    "int rolld6 = dice.Next(1, 7); // the upper is exclusive, that's why we use 7, 13 and 21.\n",
    "int rolld12 = dice.Next(1, 13);\n",
    "int rolld20 = dice.Next(1, 21);\n",
    "\n",
    "Console.WriteLine($\"D6 rolls: {rolld6}\");\n",
    "Console.WriteLine($\"D12 rolls: {rolld12}\");\n",
    "Console.WriteLine($\"D20 rolls: {rolld20}\");"
   ]
  },
  {
   "cell_type": "code",
   "execution_count": null,
   "metadata": {
    "dotnet_interactive": {
     "language": "csharp"
    },
    "polyglot_notebook": {
     "kernelName": "csharp"
    }
   },
   "outputs": [],
   "source": [
    "// The following is a challenge of using the example of a Math class using the Max method.\n",
    "\n",
    "int firstValue = 500;\n",
    "int secondValue = 600;\n",
    "// int largerValue;\n",
    "\n",
    "int largerValue = Math.Max(firstValue, secondValue);\n",
    "\n",
    "Console.WriteLine(largerValue);"
   ]
  },
  {
   "cell_type": "code",
   "execution_count": null,
   "metadata": {
    "dotnet_interactive": {
     "language": "csharp"
    },
    "polyglot_notebook": {
     "kernelName": "csharp"
    }
   },
   "outputs": [],
   "source": [
    "// This is a small dice game that will feature the logical operators if/else\n",
    "\n",
    "Random dice = new Random();\n",
    "\n",
    "int roll1 = dice.Next(1,7);\n",
    "int roll2 = dice.Next(1,7);\n",
    "int roll3 = dice.Next(1,7);\n",
    "int bonus = 0;\n",
    "bool trips = false;\n",
    "bool dubs = false;\n",
    "string special = \"Sorry! you got no bonus points.\";\n",
    "string result;\n",
    "\n",
    "int total = roll1 + roll2 + roll3;\n",
    "\n",
    "if (roll1 == roll2 && roll1 == roll3){\n",
    "    bonus += 6;\n",
    "    trips = true;\n",
    "}\n",
    "else if (roll1 == roll2 || roll1 == roll3 || roll2 == roll3){\n",
    "    bonus += 2;\n",
    "    dubs = true;\n",
    "}\n",
    "\n",
    "if (trips == true){\n",
    "    special = \"You got Triples! +6 bonus points\";\n",
    "}\n",
    "if (dubs == true){\n",
    "    special = \"You got Doubles! +2 bonus points\";\n",
    "}\n",
    "\n",
    "total += bonus;\n",
    "\n",
    "if (total >= 15){\n",
    "    result = \"you win!\";\n",
    "}else{\n",
    "    result = \"you lose!\";\n",
    "}\n",
    "\n",
    "/*Si dos dados muestran el mismo valor, se obtienen dos puntos extra por obtener un doble.\n",
    "Si los tres dados muestran el mismo valor, se obtienen seis puntos extra por obtener un triple.\n",
    "Si la suma de los tres dados, junto con los puntos extra, es igual o mayor que 15, gana el juego*/\n",
    "\n",
    "Console.WriteLine($\"Your dice roll: {roll1} + {roll2} + {roll3} = {(roll1+roll2+roll3)}\");\n",
    "Console.WriteLine($\"{special}\");\n",
    "Console.WriteLine($\"Therefore, your total points are {total} and {result}\");"
   ]
  },
  {
   "cell_type": "code",
   "execution_count": null,
   "metadata": {
    "dotnet_interactive": {
     "language": "csharp"
    },
    "polyglot_notebook": {
     "kernelName": "csharp"
    }
   },
   "outputs": [],
   "source": [
    "string message = \"The quick brown fox jumps over the lazy dog.\";\n",
    "bool result = message.Contains(\"dog\");\n",
    "Console.WriteLine(result);\n",
    "\n",
    "if (message.Contains(\"fox\"))\n",
    "{\n",
    "    Console.WriteLine(\"What does the fox say?\");\n",
    "}"
   ]
  },
  {
   "cell_type": "code",
   "execution_count": null,
   "metadata": {
    "dotnet_interactive": {
     "language": "csharp"
    },
    "polyglot_notebook": {
     "kernelName": "csharp"
    }
   },
   "outputs": [],
   "source": [
    "Random random = new Random();\n",
    "int daysUntilExpiration = random.Next(12);\n",
    "int discountPercentage = 0;\n",
    "\n",
    "// Your code goes here\n",
    "if (daysUntilExpiration == 0){\n",
    "    Console.WriteLine($\"Your subscription has expired.\");\n",
    "}\n",
    "else if (daysUntilExpiration == 1){\n",
    "    Console.WriteLine($@\"Your subscription expires within a day!\n",
    "Renew now and save 20%!\");\n",
    "}\n",
    "else if (daysUntilExpiration <= 5){\n",
    "    Console.WriteLine($@\"Your subscription expires in {daysUntilExpiration} days.\n",
    "Renew now and save 10%!\");\n",
    "}\n",
    "else if (daysUntilExpiration <= 10){\n",
    "    Console.WriteLine($\"Your subscription will expire soon. Renew now!\");\n",
    "}"
   ]
  },
  {
   "cell_type": "code",
   "execution_count": null,
   "metadata": {
    "dotnet_interactive": {
     "language": "csharp"
    },
    "polyglot_notebook": {
     "kernelName": "csharp"
    }
   },
   "outputs": [],
   "source": [
    "// This will be the first official integration of arrays presented in the course.\n",
    "\n",
    "string[] fraudulentOrderIDs = new string[3]; // 3 represents the size of the array.\n",
    "// string[] fraudulentOrderIDs = { \"A123\", \"B456\", \"C789\" }; can be used instead of the upcoming lines when initializing.\n",
    "\n",
    "fraudulentOrderIDs[0] = \"A123\"; // The first space will always have the identifier 0.\n",
    "fraudulentOrderIDs[1] = \"B456\";\n",
    "fraudulentOrderIDs[2] = \"C789\";\n",
    "// fraudulentOrderIDs[3] = \"C789\"; for this to work, new string[4] should be used.\n",
    "\n",
    "Console.WriteLine($\"First: {fraudulentOrderIDs[0]}\");\n",
    "Console.WriteLine($\"Second: {fraudulentOrderIDs[1]}\");\n",
    "Console.WriteLine($\"Third: {fraudulentOrderIDs[2]}\");\n",
    "\n",
    "fraudulentOrderIDs[0] = \"F000\";\n",
    "\n",
    "Console.WriteLine($\"Reassign First: {fraudulentOrderIDs[0]}\");\n",
    "Console.WriteLine($\"There are {fraudulentOrderIDs.Length} fraudulent orders to process.\");"
   ]
  },
  {
   "cell_type": "code",
   "execution_count": null,
   "metadata": {
    "dotnet_interactive": {
     "language": "csharp"
    },
    "polyglot_notebook": {
     "kernelName": "csharp"
    }
   },
   "outputs": [],
   "source": [
    "string[] names = { \"Rowena\", \"Robin\", \"Bao\" };\n",
    "foreach (string name in names)\n",
    "{\n",
    "    Console.WriteLine(name);\n",
    "}"
   ]
  },
  {
   "cell_type": "code",
   "execution_count": null,
   "metadata": {
    "dotnet_interactive": {
     "language": "csharp"
    },
    "polyglot_notebook": {
     "kernelName": "csharp"
    }
   },
   "outputs": [],
   "source": [
    "int[] inventory = { 200, 450, 700, 175, 250 };\n",
    "int sum = 0;\n",
    "int bin = 0;\n",
    "foreach (int items in inventory)\n",
    "{\n",
    "    sum += items;\n",
    "    bin++;\n",
    "    Console.WriteLine($\"Bin {bin} = {items} items (Running total: {sum})\");\n",
    "}\n",
    "Console.WriteLine($\"We have {sum} items in inventory.\");"
   ]
  },
  {
   "cell_type": "code",
   "execution_count": null,
   "metadata": {
    "dotnet_interactive": {
     "language": "csharp"
    },
    "polyglot_notebook": {
     "kernelName": "csharp"
    }
   },
   "outputs": [],
   "source": [
    "string[] IDs = {\"B123\", \"C234\", \"A345\", \"C15\", \"B177\", \"G3003\", \"C235\", \"B179\"};\n",
    "\n",
    "foreach (string ID in IDs){\n",
    "    if(ID.StartsWith(\"B\")){\n",
    "        Console.WriteLine($\"The ID {ID} starts with 'B'!\");\n",
    "    }else{\n",
    "        Console.WriteLine($\"The ID {ID} doesn't start with 'B'.\");\n",
    "    }\n",
    "}"
   ]
  },
  {
   "cell_type": "code",
   "execution_count": null,
   "metadata": {
    "dotnet_interactive": {
     "language": "csharp"
    },
    "polyglot_notebook": {
     "kernelName": "csharp"
    }
   },
   "outputs": [],
   "source": [
    "// Variables can use alphanumeric chars and _. special chars like #, - or $ are forbidden.\n",
    "// Variables must begin with an alphanumeric char or a highlight, never a num. \n",
    "// A variable cannot be a reserved word like float float; or string string;.\n",
    "// Variable names are typed so string MyValue; and string myValue; are diferent.\n",
    "// Camel case is recommended.\n",
    "// Variables must be clear, for exameple bool orderComplete instead of bool isComplete.\n",
    "// Variables must include full words.\n",
    "// Variables should never indicate their type."
   ]
  },
  {
   "cell_type": "code",
   "execution_count": 1,
   "metadata": {
    "dotnet_interactive": {
     "language": "csharp"
    },
    "polyglot_notebook": {
     "kernelName": "csharp"
    }
   },
   "outputs": [
    {
     "name": "stdout",
     "output_type": "stream",
     "text": [
      ".god yzal eht revo spmuj xof nworb kciuq ehT\n",
      "'o' appears 4 times.\n"
     ]
    }
   ],
   "source": [
    "/*\n",
    "   This code reverses a message, counts the number of times \n",
    "   a particular character appears, then prints the results\n",
    "   to the console window.\n",
    " */ // EXAMPLE OF GOOD DOCUMENTATION\n",
    "\n",
    "string originalMessage = \"The quick brown fox jumps over the lazy dog.\";\n",
    "\n",
    "char[] message = originalMessage.ToCharArray();\n",
    "Array.Reverse(message);\n",
    "\n",
    "int letterCount = 0;\n",
    "\n",
    "foreach (char letter in message)\n",
    "{\n",
    "    if (letter == 'o')\n",
    "    {\n",
    "        letterCount++;\n",
    "    }\n",
    "}\n",
    "\n",
    "string newMessage = new String(message);\n",
    "\n",
    "Console.WriteLine(newMessage);\n",
    "Console.WriteLine($\"'o' appears {letterCount} times.\");"
   ]
  }
 ],
 "metadata": {
  "kernelspec": {
   "display_name": ".NET (C#)",
   "language": "C#",
   "name": ".net-csharp"
  },
  "polyglot_notebook": {
   "kernelInfo": {
    "defaultKernelName": "csharp",
    "items": [
     {
      "aliases": [],
      "languageName": "csharp",
      "name": "csharp"
     }
    ]
   }
  }
 },
 "nbformat": 4,
 "nbformat_minor": 2
}
